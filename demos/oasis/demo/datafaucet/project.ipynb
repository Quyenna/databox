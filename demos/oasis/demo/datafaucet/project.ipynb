{
 "cells": [
  {
   "cell_type": "markdown",
   "metadata": {},
   "source": [
    "# Datafaucet\n",
    "\n",
    "Datafaucet is a productivity framework for ETL, ML application. Simplifying some of the common activities which are typical in Data pipeline such as project scaffolding, data ingesting, start schema generation, forecasting etc."
   ]
  },
  {
   "cell_type": "code",
   "execution_count": 1,
   "metadata": {},
   "outputs": [],
   "source": [
    "import datafaucet as dfc"
   ]
  },
  {
   "cell_type": "markdown",
   "metadata": {},
   "source": [
    "## Load a project\n",
    "\n",
    "One of the main things here is to have configuration and code separated in different files. Project is all about setting the correct working directories where to run and find your notebooks, python files and configuration files. When datafaucet project is loaded, it starts by searching for a `__main__.py` file, according to python module file naming conventions. When such a file is found, the corresponding directory is set as the root path for the project. All modules and alias paths are all relative to the project root path."
   ]
  },
  {
   "cell_type": "markdown",
   "metadata": {},
   "source": [
    "Loading the profile can be done with the `datafaucet.project.load` function call. It will look for files ending with `metadata.yml`. The function can optionally set the current working directory and import the key=values of .env file into the python os environment. if no parameters are specified, the default profile is loaded."
   ]
  },
  {
   "cell_type": "code",
   "execution_count": 2,
   "metadata": {},
   "outputs": [
    {
     "name": "stdout",
     "output_type": "stream",
     "text": [
      "Help on function load in module datafaucet.project:\n",
      "\n",
      "load(profile='default', rootpath=None)\n",
      "\n"
     ]
    }
   ],
   "source": [
    "help(dfc.project.load)"
   ]
  },
  {
   "cell_type": "markdown",
   "metadata": {},
   "source": [
    "### Project Configuration"
   ]
  },
  {
   "cell_type": "code",
   "execution_count": 1,
   "metadata": {},
   "outputs": [
    {
     "name": "stdout",
     "output_type": "stream",
     "text": [
      "created SparkEngine\n",
      "Init engine \"spark\"\n",
      "Configuring packages:\n",
      "  -  com.microsoft.sqlserver:mssql-jdbc:6.4.0.jre8\n",
      "  -  com.oracle.ojdbc:ojdbc8:19.3.0.0\n",
      "  -  mysql:mysql-connector-java:8.0.12\n",
      "  -  org.apache.hadoop:hadoop-aws:3.2.1\n",
      "  -  org.postgresql:postgresql:42.2.5\n",
      "  -  ru.yandex.clickhouse:clickhouse-jdbc:0.1.54\n",
      "Configuring conf:\n",
      "  -  spark.hadoop.fs.s3a.access.key : ****** (redacted)\n",
      "  -  spark.hadoop.fs.s3a.endpoint : http://minio:9000\n",
      "  -  spark.hadoop.fs.s3a.impl : org.apache.hadoop.fs.s3a.S3AFileSystem\n",
      "  -  spark.hadoop.fs.s3a.path.style.access : true\n",
      "  -  spark.hadoop.fs.s3a.secret.key : ****** (redacted)\n",
      "Connecting to spark master: local[*]\n",
      "Engine context spark:2.4.4 successfully started\n"
     ]
    }
   ],
   "source": [
    "# Loading default profile\n",
    "import datafaucet as dfc\n",
    "project = dfc.project.load()"
   ]
  },
  {
   "cell_type": "markdown",
   "metadata": {},
   "source": [
    "## Inspect current project configuration\n",
    "The following will display the configuration of the project metadata profile and configuration data loaded. The configuration is available as a dictionary object."
   ]
  },
  {
   "cell_type": "code",
   "execution_count": 2,
   "metadata": {},
   "outputs": [
    {
     "data": {
      "text/plain": [
       "version: 0.8.2\n",
       "username: jovyan\n",
       "session_name: ''\n",
       "session_id: '0x277c94d4f0ad11e9'\n",
       "profile:\n",
       "rootdir: /home/jovyan/work/oasis/datafaucet\n",
       "script_path: project.ipynb\n",
       "dotenv_path: .env\n",
       "notebooks_files:\n",
       "  - Untitled1.ipynb\n",
       "  - main.ipynb\n",
       "  - install.ipynb\n",
       "  - patched.ipynb\n",
       "  - resources.ipynb\n",
       "  - engine.ipynb\n",
       "  - Untitled.ipynb\n",
       "  - load_compare.ipynb\n",
       "  - metadata.ipynb\n",
       "  - project.ipynb\n",
       "  - loadsave.ipynb\n",
       "  - scaffolding.ipynb\n",
       "  - join.ipynb\n",
       "  - logging.ipynb\n",
       "  - events.ipynb\n",
       "python_files:\n",
       "  - minimal.py\n",
       "  - __main__.py\n",
       "metadata_files:\n",
       "  - metadata.yml\n",
       "repository:\n",
       "    type:\n",
       "    committer: ''\n",
       "    hash: 0\n",
       "    commit: 0\n",
       "    branch: ''\n",
       "    url: ''\n",
       "    name: ''\n",
       "    date: ''\n",
       "    clean: false"
      ]
     },
     "execution_count": 2,
     "metadata": {},
     "output_type": "execute_result"
    }
   ],
   "source": [
    "dfc.project.info()"
   ]
  },
  {
   "cell_type": "markdown",
   "metadata": {},
   "source": [
    "### Loading a specific profile\n",
    "\n",
    "Loading explicitely a different profile.  \n",
    "In this case the profile `prod` will connect to a cluster in client mode."
   ]
  },
  {
   "cell_type": "code",
   "execution_count": 3,
   "metadata": {},
   "outputs": [
    {
     "name": "stdout",
     "output_type": "stream",
     "text": [
      "Init engine \"spark\"\n",
      "Configuring packages:\n",
      "  -  com.microsoft.sqlserver:mssql-jdbc:6.4.0.jre8\n",
      "  -  com.oracle.ojdbc:ojdbc8:19.3.0.0\n",
      "  -  mysql:mysql-connector-java:8.0.12\n",
      "  -  org.apache.hadoop:hadoop-aws:3.2.1\n",
      "  -  org.postgresql:postgresql:42.2.5\n",
      "  -  ru.yandex.clickhouse:clickhouse-jdbc:0.1.54\n",
      "Configuring conf:\n",
      "  -  spark.hadoop.fs.s3a.access.key : ****** (redacted)\n",
      "  -  spark.hadoop.fs.s3a.endpoint : http://minio:9000\n",
      "  -  spark.hadoop.fs.s3a.impl : org.apache.hadoop.fs.s3a.S3AFileSystem\n",
      "  -  spark.hadoop.fs.s3a.path.style.access : true\n",
      "  -  spark.hadoop.fs.s3a.secret.key : ****** (redacted)\n",
      "Connecting to spark master: spark://spark-master:7077\n",
      "Engine context spark:2.4.4 successfully started\n"
     ]
    }
   ],
   "source": [
    "# Loading default profile\n",
    "project = dfc.project.load('prod')"
   ]
  },
  {
   "cell_type": "code",
   "execution_count": null,
   "metadata": {},
   "outputs": [],
   "source": []
  }
 ],
 "metadata": {
  "kernelspec": {
   "display_name": "Python 3",
   "language": "python",
   "name": "python3"
  },
  "language_info": {
   "codemirror_mode": {
    "name": "ipython",
    "version": 3
   },
   "file_extension": ".py",
   "mimetype": "text/x-python",
   "name": "python",
   "nbconvert_exporter": "python",
   "pygments_lexer": "ipython3",
   "version": "3.6.8"
  }
 },
 "nbformat": 4,
 "nbformat_minor": 4
}
