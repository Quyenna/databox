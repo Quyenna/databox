{
 "cells": [
  {
   "cell_type": "code",
   "execution_count": 1,
   "metadata": {},
   "outputs": [],
   "source": [
    "import datafaucet as dfc"
   ]
  },
  {
   "cell_type": "code",
   "execution_count": 2,
   "metadata": {},
   "outputs": [
    {
     "data": {
      "text/plain": [
       "DateType"
      ]
     },
     "execution_count": 2,
     "metadata": {},
     "output_type": "execute_result"
    }
   ],
   "source": [
    "from datetime import date\n",
    "d = date.today()\n",
    "from datafaucet.spark import utils\n",
    "utils.get_type(type(d))\n"
   ]
  },
  {
   "cell_type": "code",
   "execution_count": 3,
   "metadata": {},
   "outputs": [
    {
     "name": "stdout",
     "output_type": "stream",
     "text": [
      "created SparkEngine\n",
      "Init engine \"spark\"\n",
      "Connecting to spark master: local[*]\n",
      "Engine context spark:2.4.4 successfully started\n"
     ]
    }
   ],
   "source": [
    "# start the engine\n",
    "project = dfc.project.load()"
   ]
  },
  {
   "cell_type": "code",
   "execution_count": 4,
   "metadata": {},
   "outputs": [],
   "source": [
    "spark = dfc.context()"
   ]
  },
  {
   "cell_type": "code",
   "execution_count": 5,
   "metadata": {},
   "outputs": [],
   "source": [
    "df = spark.range(1000)"
   ]
  },
  {
   "cell_type": "code",
   "execution_count": 6,
   "metadata": {},
   "outputs": [],
   "source": [
    "from datafaucet.spark import utils\n",
    "utils.fake('date_between', start_date=\"-30y\", end_date=\"today\")\n",
    "\n",
    "df = (df\n",
    "    .cols.create('g').randint(0,5)\n",
    "    .cols.create('i').rand(0,1)\n",
    "    .cols.create('n').randn(0,1)\n",
    "    .cols.create('c').randchoice([True, False])\n",
    "    .cols.create('f').fake('first_name')\n",
    "    .cols.create('y').fake('name')\n",
    "    .cols.create('d').fake('date_between', start_date=\"-30y\", end_date=\"today\")\n",
    "    .cols.create('t').fake('past_datetime', start_date=\"-1d\")\n",
    "    .cols.create('ip').fake('ipv4_public')      \n",
    ")"
   ]
  },
  {
   "cell_type": "code",
   "execution_count": 7,
   "metadata": {},
   "outputs": [
    {
     "data": {
      "text/html": [
       "<div>\n",
       "<style scoped>\n",
       "    .dataframe tbody tr th:only-of-type {\n",
       "        vertical-align: middle;\n",
       "    }\n",
       "\n",
       "    .dataframe tbody tr th {\n",
       "        vertical-align: top;\n",
       "    }\n",
       "\n",
       "    .dataframe thead th {\n",
       "        text-align: right;\n",
       "    }\n",
       "</style>\n",
       "<table border=\"1\" class=\"dataframe\">\n",
       "  <thead>\n",
       "    <tr style=\"text-align: right;\">\n",
       "      <th></th>\n",
       "      <th>id</th>\n",
       "      <th>g</th>\n",
       "      <th>i</th>\n",
       "      <th>n</th>\n",
       "      <th>c</th>\n",
       "      <th>f</th>\n",
       "      <th>y</th>\n",
       "      <th>d</th>\n",
       "      <th>t</th>\n",
       "      <th>ip</th>\n",
       "    </tr>\n",
       "  </thead>\n",
       "  <tbody>\n",
       "    <tr>\n",
       "      <td>0</td>\n",
       "      <td>0</td>\n",
       "      <td>4</td>\n",
       "      <td>0.593444</td>\n",
       "      <td>-0.852090</td>\n",
       "      <td>False</td>\n",
       "      <td>Kristen</td>\n",
       "      <td>Joel Byrd</td>\n",
       "      <td>2011-06-25</td>\n",
       "      <td>2019-11-09 23:45:20</td>\n",
       "      <td>101.61.71.223</td>\n",
       "    </tr>\n",
       "    <tr>\n",
       "      <td>1</td>\n",
       "      <td>1</td>\n",
       "      <td>1</td>\n",
       "      <td>0.775122</td>\n",
       "      <td>-2.695012</td>\n",
       "      <td>True</td>\n",
       "      <td>Mark</td>\n",
       "      <td>Jeffrey Robinson</td>\n",
       "      <td>1990-06-03</td>\n",
       "      <td>2019-11-10 08:13:25</td>\n",
       "      <td>27.100.163.16</td>\n",
       "    </tr>\n",
       "    <tr>\n",
       "      <td>2</td>\n",
       "      <td>2</td>\n",
       "      <td>3</td>\n",
       "      <td>0.468253</td>\n",
       "      <td>0.240551</td>\n",
       "      <td>False</td>\n",
       "      <td>Wyatt</td>\n",
       "      <td>Andrew Sims</td>\n",
       "      <td>1999-09-24</td>\n",
       "      <td>2019-11-10 02:41:37</td>\n",
       "      <td>125.82.236.167</td>\n",
       "    </tr>\n",
       "    <tr>\n",
       "      <td>3</td>\n",
       "      <td>3</td>\n",
       "      <td>1</td>\n",
       "      <td>0.344297</td>\n",
       "      <td>-1.031398</td>\n",
       "      <td>True</td>\n",
       "      <td>Joel</td>\n",
       "      <td>Tammy Lowery</td>\n",
       "      <td>1994-06-07</td>\n",
       "      <td>2019-11-09 15:52:56</td>\n",
       "      <td>122.144.10.251</td>\n",
       "    </tr>\n",
       "    <tr>\n",
       "      <td>4</td>\n",
       "      <td>4</td>\n",
       "      <td>3</td>\n",
       "      <td>0.429483</td>\n",
       "      <td>0.692709</td>\n",
       "      <td>False</td>\n",
       "      <td>Zachary</td>\n",
       "      <td>Shelia Rollins</td>\n",
       "      <td>2016-01-04</td>\n",
       "      <td>2019-11-10 04:43:32</td>\n",
       "      <td>11.129.219.138</td>\n",
       "    </tr>\n",
       "  </tbody>\n",
       "</table>\n",
       "</div>"
      ],
      "text/plain": [
       "   id  g         i         n      c        f                 y           d  \\\n",
       "0   0  4  0.593444 -0.852090  False  Kristen         Joel Byrd  2011-06-25   \n",
       "1   1  1  0.775122 -2.695012   True     Mark  Jeffrey Robinson  1990-06-03   \n",
       "2   2  3  0.468253  0.240551  False    Wyatt       Andrew Sims  1999-09-24   \n",
       "3   3  1  0.344297 -1.031398   True     Joel      Tammy Lowery  1994-06-07   \n",
       "4   4  3  0.429483  0.692709  False  Zachary    Shelia Rollins  2016-01-04   \n",
       "\n",
       "                    t              ip  \n",
       "0 2019-11-09 23:45:20   101.61.71.223  \n",
       "1 2019-11-10 08:13:25   27.100.163.16  \n",
       "2 2019-11-10 02:41:37  125.82.236.167  \n",
       "3 2019-11-09 15:52:56  122.144.10.251  \n",
       "4 2019-11-10 04:43:32  11.129.219.138  "
      ]
     },
     "execution_count": 7,
     "metadata": {},
     "output_type": "execute_result"
    }
   ],
   "source": [
    "df.data.grid(5)"
   ]
  },
  {
   "cell_type": "code",
   "execution_count": 10,
   "metadata": {},
   "outputs": [
    {
     "name": "stdout",
     "output_type": "stream",
     "text": [
      "['colname', 'count', 'one', 'null', 'type']\n"
     ]
    },
    {
     "data": {
      "text/html": [
       "<div>\n",
       "<style scoped>\n",
       "    .dataframe tbody tr th:only-of-type {\n",
       "        vertical-align: middle;\n",
       "    }\n",
       "\n",
       "    .dataframe tbody tr th {\n",
       "        vertical-align: top;\n",
       "    }\n",
       "\n",
       "    .dataframe thead th {\n",
       "        text-align: right;\n",
       "    }\n",
       "</style>\n",
       "<table border=\"1\" class=\"dataframe\">\n",
       "  <thead>\n",
       "    <tr style=\"text-align: right;\">\n",
       "      <th></th>\n",
       "      <th>colname</th>\n",
       "      <th>count</th>\n",
       "      <th>one</th>\n",
       "      <th>null</th>\n",
       "      <th>type</th>\n",
       "    </tr>\n",
       "  </thead>\n",
       "  <tbody>\n",
       "    <tr>\n",
       "      <td>0</td>\n",
       "      <td>id</td>\n",
       "      <td>1000</td>\n",
       "      <td>0</td>\n",
       "      <td>0</td>\n",
       "      <td>bigint</td>\n",
       "    </tr>\n",
       "    <tr>\n",
       "      <td>1</td>\n",
       "      <td>g</td>\n",
       "      <td>1000</td>\n",
       "      <td>4</td>\n",
       "      <td>0</td>\n",
       "      <td>int</td>\n",
       "    </tr>\n",
       "    <tr>\n",
       "      <td>2</td>\n",
       "      <td>i</td>\n",
       "      <td>1000</td>\n",
       "      <td>0.5934444736287345</td>\n",
       "      <td>0</td>\n",
       "      <td>double</td>\n",
       "    </tr>\n",
       "    <tr>\n",
       "      <td>3</td>\n",
       "      <td>n</td>\n",
       "      <td>1000</td>\n",
       "      <td>-0.8520896602564431</td>\n",
       "      <td>0</td>\n",
       "      <td>double</td>\n",
       "    </tr>\n",
       "    <tr>\n",
       "      <td>4</td>\n",
       "      <td>c</td>\n",
       "      <td>1000</td>\n",
       "      <td>false</td>\n",
       "      <td>0</td>\n",
       "      <td>boolean</td>\n",
       "    </tr>\n",
       "    <tr>\n",
       "      <td>5</td>\n",
       "      <td>f</td>\n",
       "      <td>1000</td>\n",
       "      <td>Nicholas</td>\n",
       "      <td>0</td>\n",
       "      <td>string</td>\n",
       "    </tr>\n",
       "    <tr>\n",
       "      <td>6</td>\n",
       "      <td>y</td>\n",
       "      <td>1000</td>\n",
       "      <td>Jeffrey Lee</td>\n",
       "      <td>0</td>\n",
       "      <td>string</td>\n",
       "    </tr>\n",
       "    <tr>\n",
       "      <td>7</td>\n",
       "      <td>d</td>\n",
       "      <td>1000</td>\n",
       "      <td>2004-03-27</td>\n",
       "      <td>0</td>\n",
       "      <td>date</td>\n",
       "    </tr>\n",
       "    <tr>\n",
       "      <td>8</td>\n",
       "      <td>t</td>\n",
       "      <td>1000</td>\n",
       "      <td>2019-11-09 21:06:10</td>\n",
       "      <td>0</td>\n",
       "      <td>timestamp</td>\n",
       "    </tr>\n",
       "    <tr>\n",
       "      <td>9</td>\n",
       "      <td>ip</td>\n",
       "      <td>1000</td>\n",
       "      <td>169.242.86.252</td>\n",
       "      <td>0</td>\n",
       "      <td>string</td>\n",
       "    </tr>\n",
       "  </tbody>\n",
       "</table>\n",
       "</div>"
      ],
      "text/plain": [
       "  colname  count                  one  null       type\n",
       "0      id   1000                    0     0     bigint\n",
       "1       g   1000                    4     0        int\n",
       "2       i   1000   0.5934444736287345     0     double\n",
       "3       n   1000  -0.8520896602564431     0     double\n",
       "4       c   1000                false     0    boolean\n",
       "5       f   1000             Nicholas     0     string\n",
       "6       y   1000          Jeffrey Lee     0     string\n",
       "7       d   1000           2004-03-27     0       date\n",
       "8       t   1000  2019-11-09 21:06:10     0  timestamp\n",
       "9      ip   1000       169.242.86.252     0     string"
      ]
     },
     "execution_count": 10,
     "metadata": {},
     "output_type": "execute_result"
    }
   ],
   "source": [
    "from pyspark.sql import functions as F\n",
    "df.cols.agg(['type', 'count', 'one', 'null'], stack='_0').data.grid()"
   ]
  },
  {
   "cell_type": "code",
   "execution_count": null,
   "metadata": {},
   "outputs": [],
   "source": [
    "# hashing, obscure, encrypt, mask\n"
   ]
  }
 ],
 "metadata": {
  "kernelspec": {
   "display_name": "Python 3",
   "language": "python",
   "name": "python3"
  },
  "language_info": {
   "codemirror_mode": {
    "name": "ipython",
    "version": 3
   },
   "file_extension": ".py",
   "mimetype": "text/x-python",
   "name": "python",
   "nbconvert_exporter": "python",
   "pygments_lexer": "ipython3",
   "version": "3.7.3"
  }
 },
 "nbformat": 4,
 "nbformat_minor": 4
}
